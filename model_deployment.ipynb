{
 "cells": [
  {
   "cell_type": "markdown",
   "metadata": {
    "collapsed": true,
    "pycharm": {
     "name": "#%% md\n"
    }
   },
   "source": [
    "#### tweet sentiment analysis using hugging face"
   ]
  },
  {
   "cell_type": "code",
   "execution_count": 11,
   "outputs": [
    {
     "name": "stderr",
     "output_type": "stream",
     "text": [
      "No model was supplied, defaulted to distilbert-base-uncased-finetuned-sst-2-english (https://huggingface.co/distilbert-base-uncased-finetuned-sst-2-english)\n"
     ]
    }
   ],
   "source": [
    "from transformers import pipeline\n",
    "classifier = pipeline('sentiment-analysis')"
   ],
   "metadata": {
    "collapsed": false,
    "pycharm": {
     "name": "#%%\n"
    }
   }
  },
  {
   "cell_type": "code",
   "execution_count": 16,
   "outputs": [
    {
     "name": "stdout",
     "output_type": "stream",
     "text": [
      "lets check your tweets \n",
      "\n"
     ]
    },
    {
     "data": {
      "text/plain": "str"
     },
     "execution_count": 16,
     "metadata": {},
     "output_type": "execute_result"
    }
   ],
   "source": [
    "print(\"Lets check your tweets \\n\")\n",
    "state = str(input(\"Enter any tweet\"))"
   ],
   "metadata": {
    "collapsed": false,
    "pycharm": {
     "name": "#%%\n"
    }
   }
  },
  {
   "cell_type": "code",
   "execution_count": 17,
   "outputs": [
    {
     "name": "stdout",
     "output_type": "stream",
     "text": [
      "I am happy \t [{'label': 'POSITIVE', 'score': 0.9998801946640015}] \n",
      "\n",
      "Enter another tweet or leave blank to exit\n",
      "\n",
      "\n",
      "I am sad \t [{'label': 'NEGATIVE', 'score': 0.9991856217384338}] \n",
      "\n",
      "Enter another tweet or leave blank to exit\n",
      "\n",
      "\n",
      "i have a beautiful car \t [{'label': 'POSITIVE', 'score': 0.9998828172683716}] \n",
      "\n",
      "Enter another tweet or leave blank to exit\n",
      "\n",
      "\n",
      "exiting the program\n"
     ]
    }
   ],
   "source": [
    "while state:\n",
    "    print(state, \"\\t\",classifier(state), \"\\n\")\n",
    "    print(\"Enter another tweet or leave blank to exit\\n\\n\")\n",
    "    state = str(input(\"Enter any tweet \\n\"))\n",
    "\n",
    "print(\"exiting the program\")"
   ],
   "metadata": {
    "collapsed": false,
    "pycharm": {
     "name": "#%%\n"
    }
   }
  },
  {
   "cell_type": "code",
   "execution_count": null,
   "outputs": [],
   "source": [],
   "metadata": {
    "collapsed": false,
    "pycharm": {
     "name": "#%%\n"
    }
   }
  }
 ],
 "metadata": {
  "kernelspec": {
   "display_name": "Python 3",
   "language": "python",
   "name": "python3"
  },
  "language_info": {
   "codemirror_mode": {
    "name": "ipython",
    "version": 2
   },
   "file_extension": ".py",
   "mimetype": "text/x-python",
   "name": "python",
   "nbconvert_exporter": "python",
   "pygments_lexer": "ipython2",
   "version": "2.7.6"
  }
 },
 "nbformat": 4,
 "nbformat_minor": 0
}